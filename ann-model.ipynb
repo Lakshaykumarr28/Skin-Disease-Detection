{
 "cells": [
  {
   "cell_type": "markdown",
   "metadata": {
    "id": "gmIOz4CiiFUo"
   },
   "source": [
    "Importing necessary libraries"
   ]
  },
  {
   "cell_type": "code",
   "metadata": {
    "id": "3gFS_iG9iI4L",
    "ExecuteTime": {
     "end_time": "2024-05-03T17:56:28.368038Z",
     "start_time": "2024-05-03T17:56:28.338397Z"
    }
   },
   "source": [
    "import matplotlib.pyplot as plt\n",
    "from PIL import Image\n",
    "import seaborn as sns\n",
    "import numpy as np\n",
    "import pandas as pd\n",
    "import os\n",
    "from tensorflow.keras.utils import to_categorical\n",
    "from glob import glob\n",
    "\n",
    "from sklearn.model_selection import train_test_split\n",
    "import keras\n",
    "from keras.models import Sequential\n",
    "from keras.layers import Dense, Dropout\n",
    "import tensorflow as tf\n",
    "#from sklearn.preprocessing import StandardScaler\n",
    "\n",
    "from keras.utils import plot_model\n",
    "from tensorflow.keras.metrics import Recall\n",
    "#from sklearn.metrics import classification_report,confusion_matrix\n",
    "\n",
    "from tensorflow.keras import layers\n",
    "from keras.optimizers import Adam\n",
    "from keras.callbacks import ReduceLROnPlateau\n",
    "from tensorflow.keras.preprocessing.image import ImageDataGenerator\n",
    "from tensorflow.keras.metrics import Recall\n",
    "#from sklearn.metrics import classification_report,confusion_matrix\n",
    "\n",
    "from tensorflow.keras.models import *\n",
    "from tensorflow.keras.layers import *\n",
    "from tensorflow.keras.optimizers import Adam\n",
    "from tensorflow.keras.metrics import categorical_crossentropy\n",
    "from tensorflow.keras.preprocessing.image import ImageDataGenerator\n",
    "#from sklearn.metrics import confusion_matrix\n",
    "from tensorflow.keras.applications.densenet import DenseNet121\n",
    "from tensorflow.keras.callbacks import *\n",
    "from tensorflow.keras import backend as K\n",
    "\n",
    "import pickle"
   ],
   "execution_count": 8,
   "outputs": []
  },
  {
   "cell_type": "markdown",
   "metadata": {
    "id": "Kz_A-hPwjCj8"
   },
   "source": "# The Dataset"
  },
  {
   "cell_type": "markdown",
   "metadata": {
    "id": "3Tyzh6Pdie7G"
   },
   "source": [
    "\n",
    "\n",
    "HAM10000_metadata.csv file is the main csv file that includes the data of all training images, the features of which are -\n",
    "1. Lesion_id\n",
    "2. Image_id\n",
    "3. Dx\n",
    "4.  Dx_type\n",
    "5.  Age\n",
    "6.  Sex\n",
    "7.  Localization\n",
    "\n"
   ]
  },
  {
   "cell_type": "code",
   "metadata": {
    "id": "XzOjqztKihg2",
    "ExecuteTime": {
     "end_time": "2024-05-03T17:56:28.875223Z",
     "start_time": "2024-05-03T17:56:28.784469Z"
    }
   },
   "source": [
    "# Reading the data from HAM_metadata.csv\n",
    "df = pd.read_csv('./archive/HAM10000_metadata.csv')"
   ],
   "execution_count": 9,
   "outputs": []
  },
  {
   "cell_type": "code",
   "metadata": {
    "colab": {
     "base_uri": "https://localhost:8080/",
     "height": 206
    },
    "id": "T48c9twQi8O9",
    "outputId": "f93e014c-537b-483c-8a20-16c02b4b3c26",
    "ExecuteTime": {
     "end_time": "2024-05-03T17:56:29.050924Z",
     "start_time": "2024-05-03T17:56:28.967102Z"
    }
   },
   "source": [
    "df.head()"
   ],
   "execution_count": 10,
   "outputs": []
  },
  {
   "cell_type": "code",
   "metadata": {
    "colab": {
     "base_uri": "https://localhost:8080/"
    },
    "id": "fa3UZu_Fi9ky",
    "outputId": "e6fa63da-6d5d-4afa-abd8-d65a6e786081",
    "ExecuteTime": {
     "end_time": "2024-05-03T17:56:29.116920Z",
     "start_time": "2024-05-03T17:56:29.101178Z"
    }
   },
   "source": [
    "df.dtypes"
   ],
   "execution_count": 11,
   "outputs": []
  },
  {
   "cell_type": "code",
   "metadata": {
    "colab": {
     "base_uri": "https://localhost:8080/",
     "height": 300
    },
    "id": "f8zdehWujMLN",
    "outputId": "347a333c-4cf2-44af-abbe-5df3408688c5",
    "ExecuteTime": {
     "end_time": "2024-05-03T17:56:29.337657Z",
     "start_time": "2024-05-03T17:56:29.259854Z"
    }
   },
   "source": [
    "df.describe()"
   ],
   "execution_count": 12,
   "outputs": []
  },
  {
   "cell_type": "markdown",
   "metadata": {
    "id": "v-L_AusCode-"
   },
   "source": [
    "A statistical analysis of numerical attributes of the dataset (age)"
   ]
  },
  {
   "cell_type": "markdown",
   "metadata": {
    "id": "MhGFOkYVjXqT"
   },
   "source": [
    "### Data Cleaning and Management"
   ]
  },
  {
   "cell_type": "markdown",
   "metadata": {
    "id": "TJUnOEWboojc"
   },
   "source": [
    "Removing NULL values from the dataset"
   ]
  },
  {
   "cell_type": "code",
   "metadata": {
    "colab": {
     "base_uri": "https://localhost:8080/"
    },
    "id": "wA7_g4xLjOor",
    "outputId": "ef52b681-e9e1-4cb3-87a4-190aa69dee60",
    "ExecuteTime": {
     "end_time": "2024-05-03T17:56:29.559429Z",
     "start_time": "2024-05-03T17:56:29.530845Z"
    }
   },
   "source": [
    "df.isnull().sum()"
   ],
   "execution_count": 13,
   "outputs": []
  },
  {
   "cell_type": "markdown",
   "metadata": {
    "id": "0PBPKM6MoyIm"
   },
   "source": [
    "There are 57 NULL values in 'age' feature.\n",
    "Rather than dropping the values, replacing NULL values with the mean of 'age'."
   ]
  },
  {
   "cell_type": "code",
   "metadata": {
    "id": "hJdbEaEpowkF",
    "ExecuteTime": {
     "end_time": "2024-05-03T17:56:30.033314Z",
     "start_time": "2024-05-03T17:56:30.011474Z"
    }
   },
   "source": [
    "df['age'].fillna( df['age'].mean()  , inplace = True)"
   ],
   "execution_count": 14,
   "outputs": []
  },
  {
   "cell_type": "code",
   "metadata": {
    "colab": {
     "base_uri": "https://localhost:8080/"
    },
    "id": "Go2SbQpmpSqk",
    "outputId": "d50055c2-d1a1-401f-e091-d8a76a471814",
    "ExecuteTime": {
     "end_time": "2024-05-03T17:56:30.295880Z",
     "start_time": "2024-05-03T17:56:30.273377Z"
    }
   },
   "source": [
    "df.isnull().sum()"
   ],
   "execution_count": 15,
   "outputs": []
  },
  {
   "cell_type": "markdown",
   "metadata": {
    "id": "ScLWSV4upYae"
   },
   "source": [
    "All NULL values are now resolved."
   ]
  },
  {
   "cell_type": "markdown",
   "metadata": {
    "id": "dVu55KwrqIVW"
   },
   "source": [
    "Now, Making a lesion type dictionary to map the lesion type to a dataframe column."
   ]
  },
  {
   "cell_type": "code",
   "metadata": {
    "id": "KWZNkYQtpWhg",
    "ExecuteTime": {
     "end_time": "2024-05-03T17:56:32.076681Z",
     "start_time": "2024-05-03T17:56:30.491869Z"
    }
   },
   "source": [
    "lesion_type_dict = {\n",
    "    'nv': 'Melanocytic nevi',\n",
    "    'mel': 'Melanoma',\n",
    "    'bkl': 'Benign keratosis-like lesions ',\n",
    "    'bcc': 'Basal cell carcinoma',\n",
    "    'akiec': 'Actinic keratoses',\n",
    "    'vasc': 'Vascular lesions',\n",
    "    'df': 'Dermatofibroma'\n",
    "}\n",
    "\n",
    "base_skin_dir = './archive'\n",
    "\n",
    "# Merge images from both folders into one dictionary\n",
    "\n",
    "imageid_path_dict = {os.path.splitext(os.path.basename(x))[0]: x\n",
    "                     for x in glob(os.path.join(base_skin_dir, '*', '*.jpg'))}"
   ],
   "execution_count": 16,
   "outputs": []
  },
  {
   "cell_type": "code",
   "metadata": {
    "colab": {
     "base_uri": "https://localhost:8080/",
     "height": 293
    },
    "id": "Zez-o53Htkn1",
    "outputId": "8598d71a-9f8a-4b6e-9efe-ee635b193869",
    "ExecuteTime": {
     "end_time": "2024-05-03T17:56:32.125240Z",
     "start_time": "2024-05-03T17:56:32.081158Z"
    }
   },
   "source": [
    "df['path'] = df['image_id'].map(imageid_path_dict.get)\n",
    "df['cell_type'] = df['dx'].map(lesion_type_dict.get)\n",
    "df['cell_type_idx'] = pd.Categorical(df['cell_type']).codes\n",
    "df.head()"
   ],
   "execution_count": 17,
   "outputs": []
  },
  {
   "cell_type": "markdown",
   "metadata": {
    "id": "doe2ghSjYOCf"
   },
   "source": [
    "# Image Preprocessing"
   ]
  },
  {
   "cell_type": "markdown",
   "metadata": {
    "id": "_5k0qH_HYZY6"
   },
   "source": [
    "We have to resize the images from dimensions : 400 * 600 * 3 to dimensions : 125 * 100 * 3 as the model might take a lot of time to run on large dimensions of images."
   ]
  },
  {
   "cell_type": "code",
   "metadata": {
    "id": "aoy94_qaYQ8J",
    "ExecuteTime": {
     "end_time": "2024-05-03T17:58:32.911365Z",
     "start_time": "2024-05-03T17:56:32.126466Z"
    }
   },
   "source": [
    "df['image'] = df['path'].map(lambda x: np.asarray(Image.open(x).resize((125,100))))"
   ],
   "execution_count": 18,
   "outputs": []
  },
  {
   "cell_type": "markdown",
   "metadata": {
    "id": "dG7fwzsqYvFa"
   },
   "source": [
    "Plotting some images from each class of dataset."
   ]
  },
  {
   "cell_type": "code",
   "metadata": {
    "colab": {
     "base_uri": "https://localhost:8080/",
     "height": 1000
    },
    "id": "q-kLlu6KY0Ek",
    "outputId": "3d17b0bb-9e36-4302-9b90-89de95b56753",
    "ExecuteTime": {
     "end_time": "2024-05-03T17:58:41.882482Z",
     "start_time": "2024-05-03T17:58:32.917319Z"
    }
   },
   "source": [
    "n_samples = 5\n",
    "fig, m_axs = plt.subplots(7, n_samples, figsize = (4*n_samples, 3*7))\n",
    "for n_axs, (type_name, type_rows) in zip(m_axs, df.sort_values(['cell_type']).groupby('cell_type')):\n",
    "    n_axs[0].set_title(type_name)\n",
    "    for c_ax, (_, c_row) in zip(n_axs, type_rows.sample(n_samples, random_state=2018).iterrows()):\n",
    "        c_ax.imshow(c_row['image'])\n",
    "        c_ax.axis('off')\n",
    "fig.savefig('category_samples.png', dpi=300)"
   ],
   "execution_count": 19,
   "outputs": []
  },
  {
   "cell_type": "code",
   "metadata": {
    "colab": {
     "base_uri": "https://localhost:8080/"
    },
    "id": "QalgWCo1Y4ZO",
    "outputId": "86d0c27a-2212-4393-f155-6ba202f0fdce",
    "ExecuteTime": {
     "end_time": "2024-05-03T17:58:41.898217Z",
     "start_time": "2024-05-03T17:58:41.884756Z"
    }
   },
   "source": [
    "# to check the image size distribution - It returns one row that shows all images are uniform\n",
    "df['image'].map(lambda x: x.shape).value_counts()"
   ],
   "execution_count": 20,
   "outputs": []
  },
  {
   "cell_type": "markdown",
   "metadata": {
    "id": "z3MISFT2Sj8p"
   },
   "source": [
    "# Implementation of ANN"
   ]
  },
  {
   "cell_type": "markdown",
   "metadata": {
    "id": "NjITY0hBSpUL"
   },
   "source": [
    "A simple neural network to record patterns in images."
   ]
  },
  {
   "cell_type": "code",
   "metadata": {
    "colab": {
     "base_uri": "https://localhost:8080/",
     "height": 293
    },
    "id": "XAqGiHGNS1Jx",
    "outputId": "70b499b3-4890-422b-e117-3a7f84a737f7",
    "ExecuteTime": {
     "end_time": "2024-05-03T17:58:48.534738Z",
     "start_time": "2024-05-03T17:58:41.898217Z"
    }
   },
   "source": [
    "features = df.drop(columns = ['cell_type_idx'], axis = 1)\n",
    "target = df['cell_type_idx']\n",
    "\n",
    "features.head()"
   ],
   "execution_count": 21,
   "outputs": []
  },
  {
   "cell_type": "code",
   "metadata": {
    "colab": {
     "base_uri": "https://localhost:8080/"
    },
    "id": "pZVHxt9gT3yx",
    "outputId": "5fe6f5ca-910d-4860-d8f6-b295536a5a7b",
    "ExecuteTime": {
     "end_time": "2024-05-03T17:58:48.609532Z",
     "start_time": "2024-05-03T17:58:48.534738Z"
    }
   },
   "source": [
    "x_train_o, x_test_o, y_train_o, y_test_o = train_test_split(features, target, test_size=0.25,random_state=666)\n",
    "tf.unique(x_train_o.cell_type.values)"
   ],
   "execution_count": 22,
   "outputs": []
  },
  {
   "cell_type": "code",
   "metadata": {
    "id": "WitqqaoIUHwn",
    "ExecuteTime": {
     "end_time": "2024-05-03T17:58:52.735572Z",
     "start_time": "2024-05-03T17:58:48.609532Z"
    }
   },
   "source": [
    "x_train = np.asarray(x_train_o['image'].tolist())\n",
    "x_test = np.asarray(x_test_o['image'].tolist())\n",
    "\n",
    "x_train_mean = np.mean(x_train)\n",
    "x_train_std = np.std(x_train)\n",
    "\n",
    "x_test_mean = np.mean(x_test)\n",
    "x_test_std = np.std(x_test)\n",
    "\n",
    "x_train = (x_train - x_train_mean)/x_train_std\n",
    "x_test = (x_test - x_test_mean)/x_test_std"
   ],
   "execution_count": 23,
   "outputs": []
  },
  {
   "cell_type": "code",
   "metadata": {
    "colab": {
     "base_uri": "https://localhost:8080/"
    },
    "id": "pCMj11fAUNNF",
    "outputId": "06edc1c0-e708-41d0-c35e-633a52ef61ff",
    "ExecuteTime": {
     "end_time": "2024-05-03T17:58:52.751698Z",
     "start_time": "2024-05-03T17:58:52.736837Z"
    }
   },
   "source": [
    "# Performing one-hot encoding on the labels\n",
    "y_train = to_categorical(y_train_o, num_classes = 7)\n",
    "y_test = to_categorical(y_test_o, num_classes = 7)\n",
    "y_test"
   ],
   "execution_count": 24,
   "outputs": []
  },
  {
   "cell_type": "code",
   "metadata": {
    "id": "sXU-jP7oUUGH",
    "ExecuteTime": {
     "end_time": "2024-05-03T17:58:53.381792Z",
     "start_time": "2024-05-03T17:58:52.752921Z"
    }
   },
   "source": [
    "x_train, x_validate, y_train, y_validate = train_test_split(x_train, y_train, test_size = 0.1, random_state = 999)\n",
    "\n",
    "# Reshaping images in 3 dimensions (height = 100, width = 125 , canal = 3)\n",
    "x_train = x_train.reshape(x_train.shape[0], *(100, 125, 3))\n",
    "x_test = x_test.reshape(x_test.shape[0], *(100, 125, 3))\n",
    "x_validate = x_validate.reshape(x_validate.shape[0], *(100, 125, 3))"
   ],
   "execution_count": 25,
   "outputs": []
  },
  {
   "cell_type": "code",
   "metadata": {
    "colab": {
     "base_uri": "https://localhost:8080/"
    },
    "id": "u1HDFtFOVt7k",
    "outputId": "e3c424c8-b055-43f5-ec60-9a1110a500b9",
    "ExecuteTime": {
     "end_time": "2024-05-03T17:58:53.397417Z",
     "start_time": "2024-05-03T17:58:53.381792Z"
    }
   },
   "source": [
    "np.ma.shape(x_train)"
   ],
   "execution_count": 26,
   "outputs": []
  },
  {
   "cell_type": "code",
   "metadata": {
    "colab": {
     "base_uri": "https://localhost:8080/"
    },
    "id": "-T-sQD6QWT0l",
    "outputId": "e5052192-8aa2-4f20-f466-e9f4f7654505",
    "ExecuteTime": {
     "end_time": "2024-05-03T17:58:53.413042Z",
     "start_time": "2024-05-03T17:58:53.397417Z"
    }
   },
   "source": [
    "np.ma.shape(x_test)"
   ],
   "execution_count": 27,
   "outputs": []
  },
  {
   "cell_type": "code",
   "metadata": {
    "colab": {
     "base_uri": "https://localhost:8080/"
    },
    "id": "hMags6dhUaFM",
    "outputId": "c09b949a-9c62-424a-bb26-1fe3f91472b5",
    "ExecuteTime": {
     "end_time": "2024-05-03T10:19:53.561719Z",
     "start_time": "2024-05-03T10:19:53.545584Z"
    }
   },
   "source": [
    "x_train = x_train.reshape( 6759, 125*100*3)\n",
    "x_test = x_test.reshape( 2504, 125*100*3)\n",
    "print(x_train.shape)\n",
    "print(x_test.shape)"
   ],
   "execution_count": 20,
   "outputs": []
  },
  {
   "cell_type": "code",
   "metadata": {
    "colab": {
     "base_uri": "https://localhost:8080/"
    },
    "id": "S6seHlWOUh-4",
    "outputId": "a65bbbc4-96ba-453b-fadb-dce2ac85a9d2",
    "ExecuteTime": {
     "end_time": "2024-05-03T10:31:00.172192Z",
     "start_time": "2024-05-03T10:20:25.652446Z"
    }
   },
   "source": [
    "# defining the ANN keras model\n",
    "model = Sequential()\n",
    "\n",
    "model.add(Dense(units= 64, kernel_initializer = 'uniform', activation = 'relu', input_dim = 37500))\n",
    "model.add(Dense(units= 64, kernel_initializer = 'uniform', activation = 'relu'))\n",
    "model.add(Dense(units= 64, kernel_initializer = 'uniform', activation = 'relu'))\n",
    "model.add(Dense(units= 64, kernel_initializer = 'uniform', activation = 'relu'))\n",
    "model.add(Dense(units = 7, kernel_initializer = 'uniform', activation = 'softmax'))\n",
    "\n",
    "optimizer = tf.keras.optimizers.Adam(learning_rate = 0.00075,\n",
    "                                    beta_1 = 0.9,\n",
    "                                    beta_2 = 0.999,\n",
    "                                    epsilon = 1e-8)\n",
    "\n",
    "# compiling the model\n",
    "model.compile(optimizer = optimizer, loss = 'categorical_crossentropy', metrics = ['accuracy'])\n",
    "\n",
    "# fitting model on the dataset\n",
    "history = model.fit(x_train, y_train, batch_size = 10, epochs = 50)\n",
    "\n",
    "accuracy = model.evaluate(x_test, y_test, verbose=1)[1]\n",
    "print(\"Test: accuracy = \",accuracy*100,\"%\")"
   ],
   "execution_count": 21,
   "outputs": []
  },
  {
   "cell_type": "code",
   "metadata": {
    "id": "SW808jgn-_le",
    "ExecuteTime": {
     "end_time": "2024-05-03T17:46:31.632726Z",
     "start_time": "2024-05-03T17:46:31.539838Z"
    }
   },
   "source": [
    "#saving the model as a pickle file\n",
    "import pickle\n",
    "\n",
    "ann_model_file = \"ann_model.pkl\"\n",
    "\n",
    "with open(ann_model_file, 'wb') as file:\n",
    "    pickle.dump(model, file)"
   ],
   "execution_count": 3,
   "outputs": []
  },
  {
   "metadata": {
    "ExecuteTime": {
     "end_time": "2024-05-03T18:04:13.046171Z",
     "start_time": "2024-05-03T18:04:13.014493Z"
    }
   },
   "cell_type": "code",
   "source": [
    "#loading the model from the pickle file\n",
    "ann_model = pickle.load(open('./ann_model.pkl', 'rb'))"
   ],
   "execution_count": 31,
   "outputs": []
  },
  {
   "cell_type": "code",
   "metadata": {
    "colab": {
     "base_uri": "https://localhost:8080/",
     "height": 644
    },
    "id": "-CgU8vmTb05y",
    "outputId": "5401148f-5fc3-4645-a11b-d943b67c2f5b",
    "ExecuteTime": {
     "end_time": "2024-05-03T11:22:52.667594Z",
     "start_time": "2024-05-03T11:22:52.654105Z"
    }
   },
   "source": [
    "from keras.utils import plot_model\n",
    "\n",
    "ann_model_png = './ann_model_plot.png'\n",
    "keras.utils.plot_model(model, to_file=ann_model_png, show_shapes=True, show_layer_names=True)"
   ],
   "execution_count": 36,
   "outputs": []
  },
  {
   "cell_type": "markdown",
   "metadata": {
    "id": "Xej0PzbecH6m"
   },
   "source": [
    "The average accuracy of ANN model is around 70%."
   ]
  },
  {
   "metadata": {
    "ExecuteTime": {
     "end_time": "2024-05-03T18:00:11.449887Z",
     "start_time": "2024-05-03T18:00:11.420905Z"
    }
   },
   "cell_type": "code",
   "source": [
    "from sklearn.metrics import confusion_matrix\n",
    "import seaborn as sns\n",
    "\n",
    "# Get the predicted probabilities for the test set\n",
    "y_pred_prob = model.predict(x_test)\n",
    "\n",
    "# Find the class with the highest probability for each sample\n",
    "y_pred = np.argmax(y_pred_prob, axis=1)\n",
    "\n",
    "# Calculate the confusion matrix\n",
    "cm = confusion_matrix(np.argmax(y_test, axis=1), y_pred)\n",
    "\n",
    "# Plot the confusion matrix using Seaborn\n",
    "sns.heatmap(cm, annot=True, cmap='Blues')"
   ],
   "execution_count": 29,
   "outputs": []
  }
 ],
 "metadata": {
  "colab": {
   "gpuType": "T4",
   "include_colab_link": true,
   "provenance": []
  },
  "kernelspec": {
   "display_name": "Python 3 (ipykernel)",
   "name": "python3",
   "language": "python"
  },
  "language_info": {
   "codemirror_mode": {
    "name": "ipython",
    "version": 3
   },
   "file_extension": ".py",
   "mimetype": "text/x-python",
   "name": "python",
   "nbconvert_exporter": "python",
   "pygments_lexer": "ipython3",
   "version": "3.10.7"
  }
 },
 "nbformat": 4,
 "nbformat_minor": 0
}
