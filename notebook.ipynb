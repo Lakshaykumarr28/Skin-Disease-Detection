{
  "nbformat": 4,
  "nbformat_minor": 0,
  "metadata": {
    "colab": {
      "provenance": [],
      "gpuType": "T4",
      "authorship_tag": "ABX9TyMMbfTBCm8u34h3tRCLYPoP",
      "include_colab_link": true
    },
    "kernelspec": {
      "name": "python3",
      "display_name": "Python 3"
    },
    "language_info": {
      "name": "python"
    },
    "accelerator": "GPU"
  },
  "cells": [
    {
      "cell_type": "markdown",
      "metadata": {
        "id": "view-in-github",
        "colab_type": "text"
      },
      "source": [
        "<a href=\"https://colab.research.google.com/github/Lakshaykumarr28/Skin-Disease-Detection/blob/main/notebook.ipynb\" target=\"_parent\"><img src=\"https://colab.research.google.com/assets/colab-badge.svg\" alt=\"Open In Colab\"/></a>"
      ]
    },
    {
      "cell_type": "code",
      "execution_count": 1,
      "metadata": {
        "colab": {
          "base_uri": "https://localhost:8080/"
        },
        "id": "AlVtZawbr-PZ",
        "outputId": "87713572-0db1-44c5-91ec-6534be78e66c"
      },
      "outputs": [
        {
          "output_type": "stream",
          "name": "stdout",
          "text": [
            "Cloning into 'Skin-Disease-Detection'...\n",
            "remote: Enumerating objects: 1189, done.\u001b[K\n",
            "remote: Counting objects: 100% (3/3), done.\u001b[K\n",
            "remote: Compressing objects: 100% (2/2), done.\u001b[K\n",
            "remote: Total 1189 (delta 0), reused 3 (delta 0), pack-reused 1186\u001b[K\n",
            "Receiving objects: 100% (1189/1189), 387.80 MiB | 22.90 MiB/s, done.\n",
            "Updating files: 100% (1174/1174), done.\n"
          ]
        }
      ],
      "source": [
        "!git clone https://github.com/Lakshaykumarr28/Skin-Disease-Detection"
      ]
    }
  ]
}