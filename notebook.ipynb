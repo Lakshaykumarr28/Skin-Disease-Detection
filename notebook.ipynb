{
  "nbformat": 4,
  "nbformat_minor": 0,
  "metadata": {
    "colab": {
      "provenance": [],
      "gpuType": "T4",
      "include_colab_link": true
    },
    "kernelspec": {
      "name": "python3",
      "display_name": "Python 3"
    },
    "language_info": {
      "name": "python"
    },
    "accelerator": "GPU"
  },
  "cells": [
    {
      "cell_type": "markdown",
      "metadata": {
        "id": "view-in-github",
        "colab_type": "text"
      },
      "source": [
        "<a href=\"https://colab.research.google.com/github/Lakshaykumarr28/Skin-Disease-Detection/blob/main/notebook.ipynb\" target=\"_parent\"><img src=\"https://colab.research.google.com/assets/colab-badge.svg\" alt=\"Open In Colab\"/></a>"
      ]
    },
    {
      "cell_type": "code",
      "execution_count": 1,
      "metadata": {
        "colab": {
          "base_uri": "https://localhost:8080/"
        },
        "id": "AlVtZawbr-PZ",
        "outputId": "d93d1661-12c1-479d-88d3-e33f99017aa6"
      },
      "outputs": [
        {
          "output_type": "stream",
          "name": "stdout",
          "text": [
            "Cloning into 'Skin-Disease-Detection'...\n",
            "remote: Enumerating objects: 11218, done.\u001b[K\n",
            "remote: Total 11218 (delta 0), reused 0 (delta 0), pack-reused 11218\u001b[K\n",
            "Receiving objects: 100% (11218/11218), 2.81 GiB | 41.43 MiB/s, done.\n",
            "Resolving deltas: 100% (714/714), done.\n",
            "Updating files: 100% (11195/11195), done.\n"
          ]
        }
      ],
      "source": [
        "!git clone https://github.com/Lakshaykumarr28/Skin-Disease-Detection"
      ]
    }
  ]
}